{
 "cells": [
  {
   "cell_type": "code",
   "execution_count": 1,
   "id": "fe9cbffc",
   "metadata": {},
   "outputs": [],
   "source": [
    "import pandas as pd\n",
    "import numpy as np"
   ]
  },
  {
   "cell_type": "code",
   "execution_count": 2,
   "id": "46406dfb",
   "metadata": {},
   "outputs": [],
   "source": [
    "addresses = [\n",
    "            (\"8809 Flair Square\", \"Toddside\", \"IL\", \"37206\"),\n",
    "            (\"9901 Austin Street\", \"Toddside\", \"IL\", \"37206\"),\n",
    "            (\"905 Hogan Quarter\", \"Franklin\", \"IL\", \"37206\"),\n",
    "        ]"
   ]
  },
  {
   "cell_type": "code",
   "execution_count": 6,
   "id": "3203cad8",
   "metadata": {},
   "outputs": [
    {
     "data": {
      "text/plain": [
       "MultiIndex([( '8809 Flair Square', 'Toddside', 'IL', '37206'),\n",
       "            ('9901 Austin Street', 'Toddside', 'IL', '37206'),\n",
       "            ( '905 Hogan Quarter', 'Franklin', 'IL', '37206')],\n",
       "           names=['Street', 'City', 'State', 'Zip'])"
      ]
     },
     "execution_count": 6,
     "metadata": {},
     "output_type": "execute_result"
    }
   ],
   "source": [
    "address_df = pd.MultiIndex.from_tuples(addresses,names=['Street','City','State','Zip'])\n",
    "address_df"
   ]
  },
  {
   "cell_type": "code",
   "execution_count": null,
   "id": "330896fa",
   "metadata": {},
   "outputs": [],
   "source": [
    "data = [\n",
    "    [\"A\",\"B+\"],\n",
    "    [\"C+\",\"C\"],\n",
    "    [\"D-\",\"A\"]\n",
    "]\n",
    "\n"
   ]
  }
 ],
 "metadata": {
  "kernelspec": {
   "display_name": "Python 3 (ipykernel)",
   "language": "python",
   "name": "python3"
  },
  "language_info": {
   "codemirror_mode": {
    "name": "ipython",
    "version": 3
   },
   "file_extension": ".py",
   "mimetype": "text/x-python",
   "name": "python",
   "nbconvert_exporter": "python",
   "pygments_lexer": "ipython3",
   "version": "3.9.7"
  }
 },
 "nbformat": 4,
 "nbformat_minor": 5
}
